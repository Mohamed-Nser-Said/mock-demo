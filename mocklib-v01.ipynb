{
 "cells": [
  {
   "cell_type": "markdown",
   "id": "dbb3c25e-a599-4d21-8ad9-87948725bff0",
   "metadata": {},
   "source": [
    "# Library mocker for unit tests and validation"
   ]
  },
  {
   "cell_type": "code",
   "execution_count": 1,
   "id": "4a060b1a-ba71-4ee5-90b6-af2597a685ed",
   "metadata": {},
   "outputs": [],
   "source": [
    "Mock = require (\"mock.mock\") -- imports mock and it lib\n",
    "It = require(\"mock.it\")"
   ]
  },
  {
   "cell_type": "markdown",
   "id": "c3adcd18-0b53-4069-83ec-9b8a1700f200",
   "metadata": {},
   "source": [
    "#### simple Assert function"
   ]
  },
  {
   "cell_type": "code",
   "execution_count": 2,
   "id": "b1c8d799-f747-4425-b816-8bd46ce884dc",
   "metadata": {},
   "outputs": [],
   "source": [
    "function Assert(a, b)\n",
    "\n",
    "    if a==b then \n",
    "    print(\"test passed ✔\")\n",
    "    else print(\"test failed ❌\")\n",
    "    end\n",
    "end "
   ]
  },
  {
   "cell_type": "markdown",
   "id": "a5fd6bb6-f990-4b50-ae29-9788d02bd881",
   "metadata": {},
   "source": [
    "### Dummy code "
   ]
  },
  {
   "cell_type": "markdown",
   "id": "1537f5c3-8b85-4897-be18-c956ec3c6cc4",
   "metadata": {},
   "source": [
    "* `HTTP` represent a dependency or library\n",
    "* `BL` is a dummy business logic that uses the `HTTP` lib\n",
    "* `downloader` is what we wants to tests\n",
    "\n",
    "For this demo we need two objects, the first is what we are actually interested in testing, we will call it **SUT** or system under test, the second object is the collaboator."
   ]
  },
  {
   "cell_type": "code",
   "execution_count": 3,
   "id": "1151add1-d7cf-499e-86cc-541002b487d1",
   "metadata": {},
   "outputs": [],
   "source": [
    "\n",
    "-- business-logic\n",
    "\n",
    "local HTTP = require(\"HTTP\")\n",
    "\n",
    "Fetch = {\n",
    "    http_client = HTTP.New({}) \n",
    "}\n",
    "\n",
    "function Fetch:GET(url)\n",
    "    \n",
    "    return self.http_client:Get(url)\n",
    "end\n",
    "\n",
    "function Fetch:POST(url, data)\n",
    "    return self.http_client:Post(url, data)\n",
    "end\n"
   ]
  },
  {
   "cell_type": "markdown",
   "id": "01e31517-fdb6-491c-b9ee-7ca831be5c9e",
   "metadata": {},
   "source": [
    "### SUT (System under test)"
   ]
  },
  {
   "cell_type": "markdown",
   "id": "0ea486f5-840a-4a32-ba73-af23abd0d420",
   "metadata": {},
   "source": [
    "`downloader`: function represents the piece of code we want to test, it has two arguments:\n",
    "* `cache`: is local varibale that stores previously feteched content, so we don't make unnecessary calls.\n",
    "* `fetch`: is the object will be used to make the http request.\n",
    "* `url`:  end point."
   ]
  },
  {
   "cell_type": "code",
   "execution_count": 4,
   "id": "10dd2de9-7104-401a-9a8a-45900d794576",
   "metadata": {},
   "outputs": [],
   "source": [
    "\n",
    "function downloader(fetch, url) \n",
    "   return  fetch:GET(url)\n",
    "\n",
    "end"
   ]
  },
  {
   "cell_type": "markdown",
   "id": "8e3f20f5-7a99-4d71-96a9-e4cd588f9687",
   "metadata": {},
   "source": [
    "## **1.** Dummy Object\n",
    "we can use the mock object as Dummy object.\n",
    "Dummy objects are passed around but never actually used. Usually they are just used to fill parameter lists"
   ]
  },
  {
   "cell_type": "code",
   "execution_count": 5,
   "id": "63539ee7-d93e-467f-8592-0dc4cfd8b199",
   "metadata": {},
   "outputs": [],
   "source": [
    "\n",
    "local mock = Mock:new(Fetch) -- create an instance of the mock object passing the object we wants to mock\n",
    "downloader(mock, \"www.example.com\") -- our mock object will be used only to fill gaps "
   ]
  },
  {
   "cell_type": "markdown",
   "id": "53a985d0-c3c5-452e-9c1a-0f017bdd3863",
   "metadata": {},
   "source": [
    "## **2.** Mock object \n",
    "objects pre-programmed with expectations which form a specification of the calls they are expected to receive"
   ]
  },
  {
   "cell_type": "markdown",
   "id": "45b337f8-12bd-434d-b9bc-e4031d8a4723",
   "metadata": {},
   "source": [
    "#### 2.2 setting function behavior with the `returns` and `with` functions"
   ]
  },
  {
   "cell_type": "code",
   "execution_count": 6,
   "id": "4f600bf8-1542-4a24-bd10-dc044f29ca6b",
   "metadata": {},
   "outputs": [
    {
     "name": "stdout",
     "output_type": "stream",
     "text": [
      "test passed ✔ \n"
     ]
    }
   ],
   "source": [
    "\n",
    "-- arrange\n",
    "\n",
    "local expected_result = \"some random result\"\n",
    "local fetch_mock = Mock:new(Fetch) \n",
    "fetch_mock:setup(Fetch.GET):with(\"www.example.com\"):returns(expected_result)  \n",
    "\n",
    "-- act\n",
    "\n",
    "local result = downloader(fetch_mock, \"www.example.com\")\n",
    "\n",
    "-- assert\n",
    "\n",
    "Assert(result, expected_result)\n"
   ]
  },
  {
   "cell_type": "markdown",
   "id": "55d219be-6105-4a58-a0d6-1bd3478df2ff",
   "metadata": {},
   "source": [
    "#### 2.3 using type based args"
   ]
  },
  {
   "cell_type": "markdown",
   "id": "3cb273e3-7e3f-4a23-b07f-14bb1e7140e9",
   "metadata": {},
   "source": [
    "by using the **`It`** class you can pass type only verification without checking the value.\n",
    "* `It.any_string()` \n",
    "* `It.any_number()` \n",
    "* `It.any_int()` \n",
    "* `It.any_float()` \n",
    "* `It.any_table()` \n",
    "* `It.pattern()` "
   ]
  },
  {
   "cell_type": "code",
   "execution_count": 7,
   "id": "d162d48e-5195-4dbb-b012-6bc97db229b5",
   "metadata": {},
   "outputs": [
    {
     "name": "stdout",
     "output_type": "stream",
     "text": [
      "test passed ✔ \n"
     ]
    }
   ],
   "source": [
    "-- arrange\n",
    "\n",
    "local expected_result = \"some result\"\n",
    "local fetch_mock = Mock:new(Fetch) \n",
    "fetch_mock:setup(Fetch.GET):with(It.any_string()):returns(expected_result)  \n",
    "\n",
    "-- act\n",
    "\n",
    "local result = downloader(fetch_mock, \"www.example.com\")\n",
    "\n",
    "-- assert\n",
    "\n",
    "Assert(result, expected_result)"
   ]
  },
  {
   "cell_type": "code",
   "execution_count": 8,
   "id": "0591a2ca-76e6-4fa7-80e7-4b45fcab9ebf",
   "metadata": {},
   "outputs": [
    {
     "name": "stdout",
     "output_type": "stream",
     "text": [
      "test passed ✔ \n"
     ]
    }
   ],
   "source": [
    "-- arrange\n",
    "\n",
    "local expected_result = \"some result\"\n",
    "local fetch_mock = Mock:new(Fetch) \n",
    "fetch_mock:setup(Fetch.GET):with(It.pattern(\"https://www%.%w+%.%w+\")):returns(expected_result)  -- using pattern base verification\n",
    "\n",
    "-- act\n",
    "\n",
    "local result = downloader(fetch_mock, \"www.example.com\")\n",
    "\n",
    "-- assert\n",
    "\n",
    "Assert(result, expected_result)"
   ]
  },
  {
   "cell_type": "markdown",
   "id": "aba8b0de-6509-4fba-a74a-00c53ecb76c3",
   "metadata": {},
   "source": [
    "#### 2.4 Float and Int args verification"
   ]
  },
  {
   "cell_type": "code",
   "execution_count": 9,
   "id": "bfebd492-c857-44ef-9bde-d0da653adade",
   "metadata": {},
   "outputs": [],
   "source": [
    "-- we will modify the downloader function to accept 3rd parameter id and it should be integer type\n",
    "function downloader(fetch, url, id) \n",
    "\n",
    "   return  fetch:GET(url, id)\n",
    "\n",
    "end"
   ]
  },
  {
   "cell_type": "code",
   "execution_count": 10,
   "id": "7b27512b-3d44-4547-958b-224e85988741",
   "metadata": {},
   "outputs": [
    {
     "name": "stdout",
     "output_type": "stream",
     "text": [
      "test passed ✔ \n"
     ]
    }
   ],
   "source": [
    "local expected_result = \"some random result\"\n",
    "local fetch_mock = Mock:new(Fetch) \n",
    "fetch_mock:setup(Fetch.GET):with( It.any_string(), It.any_int()):returns(expected_result) \n",
    "\n",
    "-- act\n",
    "\n",
    "local result = downloader(fetch_mock,\"www.example.com\", 1003)\n",
    "\n",
    "-- assert\n",
    "\n",
    "Assert(result, expected_result)"
   ]
  },
  {
   "cell_type": "code",
   "execution_count": 11,
   "id": "12fb7e94-92d9-4b81-becf-96002b1299f1",
   "metadata": {},
   "outputs": [
    {
     "ename": "./mock/func.lua:83: different args was passed to the function",
     "evalue": "./mock/func.lua:83: different args was passed to the function",
     "output_type": "error",
     "traceback": [
      "./mock/func.lua:83: different args was passed to the function"
     ]
    }
   ],
   "source": [
    "local expected_result = \"some random result\"\n",
    "local fetch_mock = Mock:new(Fetch) \n",
    "fetch_mock:setup(Fetch.GET):with( It.any_string(), It.any_int()):returns(expected_result)  --\n",
    "\n",
    "-- act\n",
    "\n",
    "local result = downloader(fetch_mock,\"www.example.com\", 1003.4) -- Error : passing float, should be integer\n",
    "\n",
    "-- assert\n",
    "\n",
    "Assert(result, expected_result)"
   ]
  },
  {
   "cell_type": "markdown",
   "id": "e27760ba-e7d8-4949-bf92-e8a89b50b100",
   "metadata": {},
   "source": [
    "## 3. Strict Mode "
   ]
  },
  {
   "cell_type": "markdown",
   "id": "57610c5e-13bd-4583-a5d4-a8af69e7de7a",
   "metadata": {},
   "source": [
    "strict mode will track the mock object and any method that has not been set will result in error"
   ]
  },
  {
   "cell_type": "code",
   "execution_count": 12,
   "id": "3e64d3f2-d864-4a51-8fab-df4d828c75d4",
   "metadata": {},
   "outputs": [],
   "source": [
    "-- modify the downloader to call post which is not set yet\n",
    "function downloader(fetch, url) \n",
    "    \n",
    "    fetch:POST(url, 3) --  calling POST with out setting it\n",
    "   return  fetch:GET(url)\n",
    "\n",
    "end"
   ]
  },
  {
   "cell_type": "code",
   "execution_count": 13,
   "id": "71033fbf-19d3-4d20-9a09-5b8d3e775f15",
   "metadata": {},
   "outputs": [
    {
     "ename": "./mock/mock.lua:28: POST is called but was not set. you can set POST or strict mode to false",
     "evalue": "./mock/mock.lua:28: POST is called but was not set. you can set POST or strict mode to false",
     "output_type": "error",
     "traceback": [
      "./mock/mock.lua:28: POST is called but was not set. you can set POST or strict mode to false"
     ]
    }
   ],
   "source": [
    "\n",
    "-- arrange\n",
    "local expected_result = \"some random result\"\n",
    "local fetch_mock = Mock:new(Fetch, true) -- stric mode is activated passing true to the second parameter \n",
    "fetch_mock:setup(Fetch.GET):with(\"www.example.com\"):returns(expected_result)  \n",
    "\n",
    "-- act\n",
    "\n",
    "local result = downloader(fetch_mock, \"www.example.com\")\n",
    "\n",
    "-- assert\n",
    "\n",
    "Assert(result, expected_result)"
   ]
  },
  {
   "cell_type": "markdown",
   "id": "13c748e0-9610-4299-a1b6-99df35177b07",
   "metadata": {},
   "source": [
    "## 4. Behavior testing"
   ]
  },
  {
   "cell_type": "markdown",
   "id": "4f84ba9d-e38f-4c25-a0d7-dcd5baf1d320",
   "metadata": {},
   "source": [
    "we can test the behavior of SUT by enabling the strict mode and calling the run counter methods"
   ]
  },
  {
   "cell_type": "code",
   "execution_count": 18,
   "id": "23d6d9a5-df92-4140-9d2f-757abefe9b4e",
   "metadata": {},
   "outputs": [],
   "source": [
    "-- not the downloader has a cache table \n",
    "-- it should run the GET request only once for each url\n",
    "local cache  = {}\n",
    "function downloader(fetch, url) \n",
    "\n",
    "    if cache[url] then return cache[url]\n",
    "\n",
    "    else \n",
    "        local result  = fetch:GET(url)\n",
    "        cache[url] = result\n",
    "        return result\n",
    "    end \n",
    "end"
   ]
  },
  {
   "cell_type": "code",
   "execution_count": 19,
   "id": "d0cfd9d2-44bf-4723-b4d7-49ea318b8c80",
   "metadata": {},
   "outputs": [
    {
     "name": "stdout",
     "output_type": "stream",
     "text": [
      "test passed ✔ \n"
     ]
    }
   ],
   "source": [
    "-- arrange\n",
    "local expected_result = \"some random result\"\n",
    "local fetch_mock = Mock:new(Fetch, true) -- stric mode is activated passing true to the second parameter \n",
    "fetch_mock:setup(Fetch.GET):with(\"www.example.com\"):returns(expected_result):run_once()\n",
    "\n",
    "-- act\n",
    "\n",
    "local result = downloader(fetch_mock, \"www.example.com\")\n",
    "\n",
    "-- assert\n",
    "\n",
    "Assert(result, expected_result)"
   ]
  },
  {
   "cell_type": "code",
   "execution_count": 20,
   "id": "bd3159c7-85fd-4cc1-8329-23910bf6ea23",
   "metadata": {},
   "outputs": [],
   "source": [
    "-- not the downloader has a cache table \n",
    "-- it should run the GET request only once for each url\n",
    "local cache  = {}\n",
    "function downloader(fetch, url) \n",
    "\n",
    "    if cache[url] then return cache[url]\n",
    "\n",
    "    else \n",
    "        local result  = fetch:GET(url) \n",
    "        local result  = fetch:GET(url) --> Error: we call the GET twice\n",
    "        cache[url] = result\n",
    "        return result\n",
    "    end \n",
    "end"
   ]
  },
  {
   "cell_type": "code",
   "execution_count": 21,
   "id": "63d2604c-f39b-43d5-87b3-63b648e3fcd8",
   "metadata": {},
   "outputs": [
    {
     "ename": "./mock/func.lua:70: GET should be called exactly once, but it was called 2",
     "evalue": "./mock/func.lua:70: GET should be called exactly once, but it was called 2",
     "output_type": "error",
     "traceback": [
      "./mock/func.lua:70: GET should be called exactly once, but it was called 2"
     ]
    }
   ],
   "source": [
    "-- arrange\n",
    "local expected_result = \"some random result\"\n",
    "local fetch_mock = Mock:new(Fetch, true) -- stric mode is activated passing true to the second parameter \n",
    "fetch_mock:setup(Fetch.GET):with(\"www.example.com\"):returns(expected_result):run_once()\n",
    "\n",
    "-- act\n",
    "\n",
    "local result = downloader(fetch_mock, \"www.example.com\")\n",
    "\n",
    "-- assert\n",
    "\n",
    "Assert(result, expected_result)"
   ]
  },
  {
   "cell_type": "code",
   "execution_count": null,
   "id": "18c207a3-07c9-45cc-8625-d154f2e77408",
   "metadata": {},
   "outputs": [],
   "source": []
  }
 ],
 "metadata": {
  "kernelspec": {
   "display_name": "Lua  (XLua)",
   "language": "lua",
   "name": "xlua"
  },
  "language_info": {
   "file_extension": ".lua",
   "mimetype": "text/x-luasrc",
   "name": "lua",
   "version": "14.0.0"
  }
 },
 "nbformat": 4,
 "nbformat_minor": 5
}
